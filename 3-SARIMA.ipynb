{
 "cells": [
  {
   "cell_type": "code",
   "execution_count": 1,
   "metadata": {
    "ExecuteTime": {
     "start_time": "2024-03-08T11:19:53.940203Z",
     "end_time": "2024-03-08T11:20:14.012659Z"
    }
   },
   "outputs": [],
   "source": [
    "import pandas as pd\n",
    "import os \n",
    "from statsmodels.tsa.statespace.sarimax import SARIMAX\n",
    "import matplotlib.pyplot as plt\n",
    "from statsmodels.graphics.tsaplots import plot_acf, plot_pacf\n",
    "from statsmodels.tsa.statespace.sarimax import SARIMAX\n",
    "from tqdm import trange\n",
    "import numpy as np\n",
    "import pmdarima as pm\n",
    "\n",
    "import warnings\n",
    "\n",
    "# 忽略所有警告\n",
    "warnings.simplefilter(\"ignore\")"
   ]
  },
  {
   "cell_type": "code",
   "execution_count": 2,
   "metadata": {
    "ExecuteTime": {
     "start_time": "2024-03-08T11:20:14.015161Z",
     "end_time": "2024-03-08T11:20:14.028157Z"
    }
   },
   "outputs": [],
   "source": [
    "data_path = os.path.join(\"VMD_Data\", 'has_seasonality')\n",
    "\n",
    "test_size = 1163\n",
    "pre_len =25\n",
    "file_name = [p for p in os.listdir(data_path) if len(p.split('_'))==2]"
   ]
  },
  {
   "cell_type": "code",
   "execution_count": 3,
   "metadata": {
    "ExecuteTime": {
     "start_time": "2024-03-08T11:20:14.033659Z",
     "end_time": "2024-03-08T13:20:19.606378Z"
    }
   },
   "outputs": [
    {
     "name": "stdout",
     "output_type": "stream",
     "text": [
      "===================seq_0.csv=================\n",
      "Performing stepwise search to minimize aic\n",
      " ARIMA(2,0,2)(1,0,1)[7] intercept   : AIC=-46391.850, Time=10.15 sec\n",
      " ARIMA(0,0,0)(0,0,0)[7] intercept   : AIC=9781.508, Time=0.26 sec\n",
      " ARIMA(1,0,0)(1,0,0)[7] intercept   : AIC=inf, Time=1.90 sec\n",
      " ARIMA(0,0,1)(0,0,1)[7] intercept   : AIC=inf, Time=2.67 sec\n",
      " ARIMA(0,0,0)(0,0,0)[7]             : AIC=9782.996, Time=0.11 sec\n",
      " ARIMA(2,0,2)(0,0,1)[7] intercept   : AIC=-47038.006, Time=3.27 sec\n",
      " ARIMA(2,0,2)(0,0,0)[7] intercept   : AIC=-47040.006, Time=1.49 sec\n",
      " ARIMA(2,0,2)(1,0,0)[7] intercept   : AIC=-44543.745, Time=2.54 sec\n",
      " ARIMA(1,0,2)(0,0,0)[7] intercept   : AIC=inf, Time=3.83 sec\n",
      " ARIMA(2,0,1)(0,0,0)[7] intercept   : AIC=-47027.990, Time=2.66 sec\n",
      " ARIMA(3,0,2)(0,0,0)[7] intercept   : AIC=-47205.643, Time=1.73 sec\n",
      " ARIMA(3,0,2)(1,0,0)[7] intercept   : AIC=-44677.172, Time=8.19 sec\n",
      " ARIMA(3,0,2)(0,0,1)[7] intercept   : AIC=-47203.647, Time=3.61 sec\n",
      " ARIMA(3,0,2)(1,0,1)[7] intercept   : AIC=-46616.698, Time=13.08 sec\n",
      " ARIMA(3,0,1)(0,0,0)[7] intercept   : AIC=-45819.615, Time=3.33 sec\n",
      " ARIMA(4,0,2)(0,0,0)[7] intercept   : AIC=inf, Time=9.23 sec\n",
      " ARIMA(3,0,3)(0,0,0)[7] intercept   : AIC=-27676.811, Time=8.88 sec\n",
      " ARIMA(2,0,3)(0,0,0)[7] intercept   : AIC=-47072.204, Time=2.00 sec\n",
      " ARIMA(4,0,1)(0,0,0)[7] intercept   : AIC=-47072.695, Time=7.22 sec\n",
      " ARIMA(4,0,3)(0,0,0)[7] intercept   : AIC=-45101.655, Time=8.77 sec\n",
      " ARIMA(3,0,2)(0,0,0)[7]             : AIC=-47208.344, Time=1.01 sec\n",
      " ARIMA(3,0,2)(1,0,0)[7]             : AIC=-44455.176, Time=1.95 sec\n",
      " ARIMA(3,0,2)(0,0,1)[7]             : AIC=-47206.344, Time=2.33 sec\n",
      " ARIMA(3,0,2)(1,0,1)[7]             : AIC=-44452.399, Time=2.23 sec\n",
      " ARIMA(2,0,2)(0,0,0)[7]             : AIC=-47040.963, Time=1.50 sec\n",
      " ARIMA(3,0,1)(0,0,0)[7]             : AIC=-45821.974, Time=2.74 sec\n",
      " ARIMA(4,0,2)(0,0,0)[7]             : AIC=inf, Time=7.28 sec\n",
      " ARIMA(3,0,3)(0,0,0)[7]             : AIC=inf, Time=5.23 sec\n",
      " ARIMA(2,0,1)(0,0,0)[7]             : AIC=-47014.844, Time=0.63 sec\n",
      " ARIMA(2,0,3)(0,0,0)[7]             : AIC=-47073.249, Time=2.27 sec\n",
      " ARIMA(4,0,1)(0,0,0)[7]             : AIC=-47073.850, Time=2.91 sec\n",
      " ARIMA(4,0,3)(0,0,0)[7]             : AIC=-45356.160, Time=7.50 sec\n",
      "\n",
      "Best model:  ARIMA(3,0,2)(0,0,0)[7]          \n",
      "Total fit time: 138.839 seconds\n"
     ]
    },
    {
     "name": "stderr",
     "output_type": "stream",
     "text": [
      "100%|██████████| 47/47 [01:03<00:00,  1.35s/it]\n"
     ]
    },
    {
     "name": "stdout",
     "output_type": "stream",
     "text": [
      "===================seq_1.csv=================\n",
      "Performing stepwise search to minimize aic\n",
      " ARIMA(2,0,2)(1,0,1)[7] intercept   : AIC=-44120.138, Time=2.45 sec\n",
      " ARIMA(0,0,0)(0,0,0)[7] intercept   : AIC=4958.649, Time=0.28 sec\n",
      " ARIMA(1,0,0)(1,0,0)[7] intercept   : AIC=inf, Time=2.39 sec\n",
      " ARIMA(0,0,1)(0,0,1)[7] intercept   : AIC=inf, Time=4.41 sec\n",
      " ARIMA(0,0,0)(0,0,0)[7]             : AIC=4956.962, Time=0.18 sec\n",
      " ARIMA(2,0,2)(0,0,1)[7] intercept   : AIC=-45738.217, Time=6.31 sec\n",
      " ARIMA(2,0,2)(0,0,0)[7] intercept   : AIC=-45740.217, Time=1.70 sec\n",
      " ARIMA(2,0,2)(1,0,0)[7] intercept   : AIC=-44121.238, Time=3.44 sec\n",
      " ARIMA(1,0,2)(0,0,0)[7] intercept   : AIC=inf, Time=3.47 sec\n",
      " ARIMA(2,0,1)(0,0,0)[7] intercept   : AIC=-45649.542, Time=0.71 sec\n",
      " ARIMA(3,0,2)(0,0,0)[7] intercept   : AIC=-45934.647, Time=3.60 sec\n",
      " ARIMA(3,0,2)(1,0,0)[7] intercept   : AIC=-44186.708, Time=5.04 sec\n",
      " ARIMA(3,0,2)(0,0,1)[7] intercept   : AIC=-45932.647, Time=3.71 sec\n",
      " ARIMA(3,0,2)(1,0,1)[7] intercept   : AIC=-45861.417, Time=9.87 sec\n",
      " ARIMA(3,0,1)(0,0,0)[7] intercept   : AIC=-45555.874, Time=2.72 sec\n",
      " ARIMA(4,0,2)(0,0,0)[7] intercept   : AIC=inf, Time=8.65 sec\n",
      " ARIMA(3,0,3)(0,0,0)[7] intercept   : AIC=-45947.120, Time=1.86 sec\n",
      " ARIMA(3,0,3)(1,0,0)[7] intercept   : AIC=-44138.929, Time=8.38 sec\n",
      " ARIMA(3,0,3)(0,0,1)[7] intercept   : AIC=-45945.119, Time=3.57 sec\n",
      " ARIMA(3,0,3)(1,0,1)[7] intercept   : AIC=-44137.849, Time=5.61 sec\n",
      " ARIMA(2,0,3)(0,0,0)[7] intercept   : AIC=-45828.681, Time=1.65 sec\n",
      " ARIMA(4,0,3)(0,0,0)[7] intercept   : AIC=-45945.190, Time=2.18 sec\n",
      " ARIMA(3,0,4)(0,0,0)[7] intercept   : AIC=-45780.780, Time=2.04 sec\n",
      " ARIMA(2,0,4)(0,0,0)[7] intercept   : AIC=-45859.833, Time=3.52 sec\n",
      " ARIMA(4,0,4)(0,0,0)[7] intercept   : AIC=inf, Time=10.67 sec\n",
      " ARIMA(3,0,3)(0,0,0)[7]             : AIC=-45949.068, Time=1.40 sec\n",
      " ARIMA(3,0,3)(1,0,0)[7]             : AIC=-45582.976, Time=4.52 sec\n",
      " ARIMA(3,0,3)(0,0,1)[7]             : AIC=-45947.068, Time=2.63 sec\n",
      " ARIMA(3,0,3)(1,0,1)[7]             : AIC=-45914.000, Time=5.80 sec\n",
      " ARIMA(2,0,3)(0,0,0)[7]             : AIC=-45830.414, Time=0.85 sec\n",
      " ARIMA(3,0,2)(0,0,0)[7]             : AIC=-45936.491, Time=0.92 sec\n",
      " ARIMA(4,0,3)(0,0,0)[7]             : AIC=-45947.191, Time=1.27 sec\n",
      " ARIMA(3,0,4)(0,0,0)[7]             : AIC=-45784.258, Time=1.36 sec\n",
      " ARIMA(2,0,2)(0,0,0)[7]             : AIC=-45741.890, Time=1.89 sec\n",
      " ARIMA(2,0,4)(0,0,0)[7]             : AIC=-45846.646, Time=1.13 sec\n",
      " ARIMA(4,0,2)(0,0,0)[7]             : AIC=-44106.465, Time=8.90 sec\n",
      " ARIMA(4,0,4)(0,0,0)[7]             : AIC=inf, Time=12.93 sec\n",
      "\n",
      "Best model:  ARIMA(3,0,3)(0,0,0)[7]          \n",
      "Total fit time: 142.035 seconds\n"
     ]
    },
    {
     "name": "stderr",
     "output_type": "stream",
     "text": [
      "100%|██████████| 47/47 [01:13<00:00,  1.57s/it]\n"
     ]
    },
    {
     "name": "stdout",
     "output_type": "stream",
     "text": [
      "===================seq_10.csv=================\n",
      "Performing stepwise search to minimize aic\n",
      " ARIMA(2,0,2)(1,1,1)[7] intercept   : AIC=-43008.277, Time=11.69 sec\n",
      " ARIMA(0,0,0)(0,1,0)[7] intercept   : AIC=-8195.518, Time=0.53 sec\n",
      " ARIMA(1,0,0)(1,1,0)[7] intercept   : AIC=inf, Time=5.38 sec\n",
      " ARIMA(0,0,1)(0,1,1)[7] intercept   : AIC=inf, Time=5.84 sec\n",
      " ARIMA(0,0,0)(0,1,0)[7]             : AIC=-8197.518, Time=0.27 sec\n",
      " ARIMA(2,0,2)(0,1,1)[7] intercept   : AIC=-42490.394, Time=4.95 sec\n",
      " ARIMA(2,0,2)(1,1,0)[7] intercept   : AIC=-42999.764, Time=8.94 sec\n",
      " ARIMA(2,0,2)(2,1,1)[7] intercept   : AIC=-42414.104, Time=17.37 sec\n",
      " ARIMA(2,0,2)(1,1,2)[7] intercept   : AIC=-43083.543, Time=5.78 sec\n",
      " ARIMA(2,0,2)(0,1,2)[7] intercept   : AIC=-42488.415, Time=20.59 sec\n",
      " ARIMA(2,0,2)(2,1,2)[7] intercept   : AIC=-42543.651, Time=19.48 sec\n",
      " ARIMA(1,0,2)(1,1,2)[7] intercept   : AIC=-39068.943, Time=21.70 sec\n",
      " ARIMA(2,0,1)(1,1,2)[7] intercept   : AIC=-42950.717, Time=12.43 sec\n",
      " ARIMA(3,0,2)(1,1,2)[7] intercept   : AIC=inf, Time=nan sec\n",
      " ARIMA(2,0,3)(1,1,2)[7] intercept   : AIC=-43787.585, Time=25.68 sec\n",
      " ARIMA(2,0,3)(0,1,2)[7] intercept   : AIC=-42856.713, Time=6.05 sec\n",
      " ARIMA(2,0,3)(1,1,1)[7] intercept   : AIC=-43727.258, Time=16.05 sec\n",
      " ARIMA(2,0,3)(2,1,2)[7] intercept   : AIC=-44016.179, Time=24.06 sec\n",
      " ARIMA(2,0,3)(2,1,1)[7] intercept   : AIC=-43286.427, Time=9.62 sec\n",
      " ARIMA(1,0,3)(2,1,2)[7] intercept   : AIC=-41447.947, Time=54.50 sec\n",
      " ARIMA(3,0,3)(2,1,2)[7] intercept   : AIC=-44312.612, Time=69.11 sec\n",
      " ARIMA(3,0,3)(1,1,2)[7] intercept   : AIC=-44799.815, Time=44.30 sec\n",
      " ARIMA(3,0,3)(0,1,2)[7] intercept   : AIC=-42857.950, Time=50.45 sec\n",
      " ARIMA(3,0,3)(1,1,1)[7] intercept   : AIC=-43969.862, Time=26.44 sec\n",
      " ARIMA(3,0,3)(0,1,1)[7] intercept   : AIC=-42859.951, Time=12.08 sec\n",
      " ARIMA(3,0,3)(2,1,1)[7] intercept   : AIC=-44176.593, Time=42.35 sec\n",
      " ARIMA(4,0,3)(1,1,2)[7] intercept   : AIC=-44948.119, Time=75.34 sec\n",
      " ARIMA(4,0,3)(0,1,2)[7] intercept   : AIC=-42969.061, Time=27.75 sec\n",
      " ARIMA(4,0,3)(1,1,1)[7] intercept   : AIC=-43801.689, Time=15.61 sec\n",
      " ARIMA(4,0,3)(2,1,2)[7] intercept   : AIC=-44293.288, Time=88.84 sec\n",
      " ARIMA(4,0,3)(0,1,1)[7] intercept   : AIC=-42971.058, Time=14.25 sec\n",
      " ARIMA(4,0,3)(2,1,1)[7] intercept   : AIC=-44215.057, Time=77.46 sec\n",
      " ARIMA(4,0,2)(1,1,2)[7] intercept   : AIC=inf, Time=106.15 sec\n",
      " ARIMA(5,0,3)(1,1,2)[7] intercept   : AIC=-43570.142, Time=78.51 sec\n",
      " ARIMA(4,0,4)(1,1,2)[7] intercept   : AIC=-35245.412, Time=142.49 sec\n",
      " ARIMA(3,0,4)(1,1,2)[7] intercept   : AIC=-44824.367, Time=97.86 sec\n",
      " ARIMA(5,0,2)(1,1,2)[7] intercept   : AIC=-44423.230, Time=58.34 sec\n",
      " ARIMA(5,0,4)(1,1,2)[7] intercept   : AIC=-30923.154, Time=139.64 sec\n",
      " ARIMA(4,0,3)(1,1,2)[7]             : AIC=-44854.700, Time=15.56 sec\n",
      "\n",
      "Best model:  ARIMA(4,0,3)(1,1,2)[7] intercept\n",
      "Total fit time: 1489.187 seconds\n"
     ]
    },
    {
     "name": "stderr",
     "output_type": "stream",
     "text": [
      "100%|██████████| 47/47 [22:13<00:00, 28.37s/it]\n"
     ]
    },
    {
     "name": "stdout",
     "output_type": "stream",
     "text": [
      "===================seq_2.csv=================\n",
      "Performing stepwise search to minimize aic\n",
      " ARIMA(2,0,2)(1,0,1)[7] intercept   : AIC=-43384.244, Time=5.37 sec\n",
      " ARIMA(0,0,0)(0,0,0)[7] intercept   : AIC=1393.060, Time=0.77 sec\n",
      " ARIMA(1,0,0)(1,0,0)[7] intercept   : AIC=-15171.500, Time=3.51 sec\n",
      " ARIMA(0,0,1)(0,0,1)[7] intercept   : AIC=inf, Time=4.71 sec\n",
      " ARIMA(0,0,0)(0,0,0)[7]             : AIC=1391.229, Time=0.26 sec\n",
      " ARIMA(2,0,2)(0,0,1)[7] intercept   : AIC=-44114.439, Time=16.56 sec\n",
      " ARIMA(2,0,2)(0,0,0)[7] intercept   : AIC=-44118.585, Time=6.20 sec\n",
      " ARIMA(2,0,2)(1,0,0)[7] intercept   : AIC=-44077.683, Time=7.36 sec\n",
      " ARIMA(1,0,2)(0,0,0)[7] intercept   : AIC=inf, Time=9.76 sec\n",
      " ARIMA(2,0,1)(0,0,0)[7] intercept   : AIC=-43705.771, Time=6.05 sec\n",
      " ARIMA(3,0,2)(0,0,0)[7] intercept   : AIC=-44527.109, Time=10.00 sec\n",
      " ARIMA(3,0,2)(1,0,0)[7] intercept   : AIC=-44026.392, Time=9.18 sec\n",
      " ARIMA(3,0,2)(0,0,1)[7] intercept   : AIC=-44525.109, Time=14.18 sec\n",
      " ARIMA(3,0,2)(1,0,1)[7] intercept   : AIC=-44026.633, Time=9.60 sec\n",
      " ARIMA(3,0,1)(0,0,0)[7] intercept   : AIC=-44328.465, Time=11.45 sec\n",
      " ARIMA(4,0,2)(0,0,0)[7] intercept   : AIC=inf, Time=18.51 sec\n",
      " ARIMA(3,0,3)(0,0,0)[7] intercept   : AIC=-44534.454, Time=10.33 sec\n",
      " ARIMA(3,0,3)(1,0,0)[7] intercept   : AIC=-44038.028, Time=8.93 sec\n",
      " ARIMA(3,0,3)(0,0,1)[7] intercept   : AIC=-44532.454, Time=16.11 sec\n",
      " ARIMA(3,0,3)(1,0,1)[7] intercept   : AIC=-44038.261, Time=11.63 sec\n",
      " ARIMA(2,0,3)(0,0,0)[7] intercept   : AIC=-44187.074, Time=4.27 sec\n",
      " ARIMA(4,0,3)(0,0,0)[7] intercept   : AIC=-43142.448, Time=23.06 sec\n",
      " ARIMA(3,0,4)(0,0,0)[7] intercept   : AIC=-44526.181, Time=8.26 sec\n",
      " ARIMA(2,0,4)(0,0,0)[7] intercept   : AIC=-44325.018, Time=3.04 sec\n",
      " ARIMA(4,0,4)(0,0,0)[7] intercept   : AIC=-44487.594, Time=6.16 sec\n",
      " ARIMA(3,0,3)(0,0,0)[7]             : AIC=-44536.376, Time=3.91 sec\n",
      " ARIMA(3,0,3)(1,0,0)[7]             : AIC=-44039.994, Time=3.05 sec\n",
      " ARIMA(3,0,3)(0,0,1)[7]             : AIC=-44534.376, Time=3.69 sec\n",
      " ARIMA(3,0,3)(1,0,1)[7]             : AIC=-44040.227, Time=4.05 sec\n",
      " ARIMA(2,0,3)(0,0,0)[7]             : AIC=-44189.199, Time=1.38 sec\n",
      " ARIMA(3,0,2)(0,0,0)[7]             : AIC=-44529.028, Time=1.70 sec\n",
      " ARIMA(4,0,3)(0,0,0)[7]             : AIC=-42755.504, Time=8.18 sec\n",
      " ARIMA(3,0,4)(0,0,0)[7]             : AIC=-44528.097, Time=2.65 sec\n",
      " ARIMA(2,0,2)(0,0,0)[7]             : AIC=-44136.735, Time=2.73 sec\n",
      " ARIMA(2,0,4)(0,0,0)[7]             : AIC=-44326.912, Time=1.41 sec\n",
      " ARIMA(4,0,2)(0,0,0)[7]             : AIC=-41040.864, Time=9.69 sec\n",
      " ARIMA(4,0,4)(0,0,0)[7]             : AIC=-44490.136, Time=3.63 sec\n",
      "\n",
      "Best model:  ARIMA(3,0,3)(0,0,0)[7]          \n",
      "Total fit time: 271.418 seconds\n"
     ]
    },
    {
     "name": "stderr",
     "output_type": "stream",
     "text": [
      "100%|██████████| 47/47 [02:13<00:00,  2.84s/it]\n"
     ]
    },
    {
     "name": "stdout",
     "output_type": "stream",
     "text": [
      "===================seq_3.csv=================\n",
      "Performing stepwise search to minimize aic\n",
      " ARIMA(2,0,2)(1,0,1)[7] intercept   : AIC=-41546.762, Time=7.02 sec\n",
      " ARIMA(0,0,0)(0,0,0)[7] intercept   : AIC=-4480.626, Time=0.68 sec\n",
      " ARIMA(1,0,0)(1,0,0)[7] intercept   : AIC=-17242.429, Time=4.54 sec\n",
      " ARIMA(0,0,1)(0,0,1)[7] intercept   : AIC=inf, Time=8.23 sec\n",
      " ARIMA(0,0,0)(0,0,0)[7]             : AIC=-4482.562, Time=0.25 sec\n",
      " ARIMA(2,0,2)(0,0,1)[7] intercept   : AIC=-41328.177, Time=2.80 sec\n",
      " ARIMA(2,0,2)(1,0,0)[7] intercept   : AIC=-41550.806, Time=7.74 sec\n",
      " ARIMA(2,0,2)(0,0,0)[7] intercept   : AIC=-41330.174, Time=3.27 sec\n",
      " ARIMA(2,0,2)(2,0,0)[7] intercept   : AIC=-41071.267, Time=25.24 sec\n",
      " ARIMA(2,0,2)(2,0,1)[7] intercept   : AIC=-41363.058, Time=24.56 sec\n",
      " ARIMA(1,0,2)(1,0,0)[7] intercept   : AIC=inf, Time=12.38 sec\n",
      " ARIMA(2,0,1)(1,0,0)[7] intercept   : AIC=-41683.530, Time=12.54 sec\n",
      " ARIMA(2,0,1)(0,0,0)[7] intercept   : AIC=-41232.058, Time=5.66 sec\n",
      " ARIMA(2,0,1)(2,0,0)[7] intercept   : AIC=-40707.049, Time=26.13 sec\n",
      " ARIMA(2,0,1)(1,0,1)[7] intercept   : AIC=-41866.522, Time=15.42 sec\n",
      " ARIMA(2,0,1)(0,0,1)[7] intercept   : AIC=-41858.729, Time=13.45 sec\n",
      " ARIMA(2,0,1)(2,0,1)[7] intercept   : AIC=-40806.111, Time=21.44 sec\n",
      " ARIMA(2,0,1)(1,0,2)[7] intercept   : AIC=-41797.113, Time=16.13 sec\n",
      " ARIMA(2,0,1)(0,0,2)[7] intercept   : AIC=-41921.087, Time=24.07 sec\n",
      " ARIMA(1,0,1)(0,0,2)[7] intercept   : AIC=-29430.897, Time=25.16 sec\n",
      " ARIMA(2,0,0)(0,0,2)[7] intercept   : AIC=-39098.421, Time=23.65 sec\n",
      " ARIMA(3,0,1)(0,0,2)[7] intercept   : AIC=-42295.421, Time=23.79 sec\n",
      " ARIMA(3,0,1)(0,0,1)[7] intercept   : AIC=-42198.478, Time=14.29 sec\n",
      " ARIMA(3,0,1)(1,0,2)[7] intercept   : AIC=-41984.680, Time=27.72 sec\n",
      " ARIMA(3,0,1)(1,0,1)[7] intercept   : AIC=-42069.036, Time=19.37 sec\n",
      " ARIMA(3,0,0)(0,0,2)[7] intercept   : AIC=-42184.106, Time=8.83 sec\n",
      " ARIMA(4,0,1)(0,0,2)[7] intercept   : AIC=-42329.845, Time=27.82 sec\n",
      " ARIMA(4,0,1)(0,0,1)[7] intercept   : AIC=-41945.475, Time=15.42 sec\n",
      " ARIMA(4,0,1)(1,0,2)[7] intercept   : AIC=-41594.352, Time=23.63 sec\n",
      " ARIMA(4,0,1)(1,0,1)[7] intercept   : AIC=-42205.715, Time=22.77 sec\n",
      " ARIMA(4,0,0)(0,0,2)[7] intercept   : AIC=-42562.159, Time=9.75 sec\n",
      " ARIMA(4,0,0)(0,0,1)[7] intercept   : AIC=-42564.159, Time=9.53 sec\n",
      " ARIMA(4,0,0)(0,0,0)[7] intercept   : AIC=inf, Time=3.97 sec\n",
      " ARIMA(4,0,0)(1,0,1)[7] intercept   : AIC=-42241.474, Time=14.72 sec\n",
      " ARIMA(4,0,0)(1,0,0)[7] intercept   : AIC=inf, Time=7.52 sec\n",
      " ARIMA(4,0,0)(1,0,2)[7] intercept   : AIC=-42267.874, Time=11.03 sec\n",
      " ARIMA(3,0,0)(0,0,1)[7] intercept   : AIC=-42186.106, Time=4.63 sec\n",
      " ARIMA(5,0,0)(0,0,1)[7] intercept   : AIC=-42562.504, Time=5.57 sec\n",
      " ARIMA(5,0,1)(0,0,1)[7] intercept   : AIC=-41476.745, Time=17.32 sec\n",
      " ARIMA(4,0,0)(0,0,1)[7]             : AIC=-42566.105, Time=1.98 sec\n",
      " ARIMA(4,0,0)(0,0,0)[7]             : AIC=inf, Time=1.22 sec\n",
      " ARIMA(4,0,0)(1,0,1)[7]             : AIC=-42243.366, Time=2.93 sec\n",
      " ARIMA(4,0,0)(0,0,2)[7]             : AIC=-42564.105, Time=3.27 sec\n",
      " ARIMA(4,0,0)(1,0,0)[7]             : AIC=inf, Time=2.48 sec\n",
      " ARIMA(4,0,0)(1,0,2)[7]             : AIC=-42269.768, Time=4.03 sec\n",
      " ARIMA(3,0,0)(0,0,1)[7]             : AIC=-42188.077, Time=1.60 sec\n",
      " ARIMA(5,0,0)(0,0,1)[7]             : AIC=-42564.451, Time=1.34 sec\n",
      " ARIMA(4,0,1)(0,0,1)[7]             : AIC=-42379.312, Time=6.76 sec\n",
      " ARIMA(3,0,1)(0,0,1)[7]             : AIC=-42117.185, Time=6.12 sec\n",
      " ARIMA(5,0,1)(0,0,1)[7]             : AIC=-42384.484, Time=7.47 sec\n",
      "\n",
      "Best model:  ARIMA(4,0,0)(0,0,1)[7]          \n",
      "Total fit time: 587.327 seconds\n"
     ]
    },
    {
     "name": "stderr",
     "output_type": "stream",
     "text": [
      "100%|██████████| 47/47 [02:19<00:00,  2.97s/it]\n"
     ]
    },
    {
     "name": "stdout",
     "output_type": "stream",
     "text": [
      "===================seq_7.csv=================\n",
      "Performing stepwise search to minimize aic\n",
      " ARIMA(2,0,2)(1,1,1)[7] intercept   : AIC=-32045.865, Time=26.79 sec\n",
      " ARIMA(0,0,0)(0,1,0)[7] intercept   : AIC=-8190.154, Time=1.68 sec\n",
      " ARIMA(1,0,0)(1,1,0)[7] intercept   : AIC=-8635.882, Time=5.67 sec\n",
      " ARIMA(0,0,1)(0,1,1)[7] intercept   : AIC=inf, Time=9.73 sec\n",
      " ARIMA(0,0,0)(0,1,0)[7]             : AIC=-8192.153, Time=0.40 sec\n",
      " ARIMA(2,0,2)(0,1,1)[7] intercept   : AIC=-32054.959, Time=24.98 sec\n",
      " ARIMA(2,0,2)(0,1,0)[7] intercept   : AIC=-29607.459, Time=11.11 sec\n",
      " ARIMA(2,0,2)(0,1,2)[7] intercept   : AIC=-31093.401, Time=47.00 sec\n",
      " ARIMA(2,0,2)(1,1,0)[7] intercept   : AIC=-31297.969, Time=14.86 sec\n",
      " ARIMA(2,0,2)(1,1,2)[7] intercept   : AIC=-31574.235, Time=41.29 sec\n",
      " ARIMA(1,0,2)(0,1,1)[7] intercept   : AIC=inf, Time=25.59 sec\n",
      " ARIMA(2,0,1)(0,1,1)[7] intercept   : AIC=inf, Time=10.84 sec\n",
      " ARIMA(3,0,2)(0,1,1)[7] intercept   : AIC=-31051.675, Time=9.42 sec\n",
      " ARIMA(2,0,3)(0,1,1)[7] intercept   : AIC=-31461.780, Time=11.97 sec\n",
      " ARIMA(1,0,1)(0,1,1)[7] intercept   : AIC=inf, Time=9.18 sec\n",
      " ARIMA(1,0,3)(0,1,1)[7] intercept   : AIC=inf, Time=12.15 sec\n",
      " ARIMA(3,0,1)(0,1,1)[7] intercept   : AIC=inf, Time=11.50 sec\n",
      " ARIMA(3,0,3)(0,1,1)[7] intercept   : AIC=-32409.809, Time=15.75 sec\n",
      " ARIMA(3,0,3)(0,1,0)[7] intercept   : AIC=inf, Time=10.60 sec\n",
      " ARIMA(3,0,3)(1,1,1)[7] intercept   : AIC=-32112.602, Time=14.49 sec\n",
      " ARIMA(3,0,3)(0,1,2)[7] intercept   : AIC=-31590.288, Time=18.79 sec\n",
      " ARIMA(3,0,3)(1,1,0)[7] intercept   : AIC=-31541.976, Time=23.31 sec\n",
      " ARIMA(3,0,3)(1,1,2)[7] intercept   : AIC=-31755.944, Time=56.36 sec\n",
      " ARIMA(4,0,3)(0,1,1)[7] intercept   : AIC=-34990.897, Time=50.05 sec\n",
      " ARIMA(4,0,3)(0,1,0)[7] intercept   : AIC=-33542.195, Time=13.72 sec\n",
      " ARIMA(4,0,3)(1,1,1)[7] intercept   : AIC=-35843.845, Time=37.15 sec\n",
      " ARIMA(4,0,3)(1,1,0)[7] intercept   : AIC=-34594.594, Time=48.28 sec\n",
      " ARIMA(4,0,3)(2,1,1)[7] intercept   : AIC=-35583.740, Time=80.42 sec\n",
      " ARIMA(4,0,3)(1,1,2)[7] intercept   : AIC=-33883.239, Time=12.31 sec\n",
      " ARIMA(4,0,3)(0,1,2)[7] intercept   : AIC=-35648.148, Time=89.50 sec\n",
      " ARIMA(4,0,3)(2,1,0)[7] intercept   : AIC=-34657.898, Time=64.00 sec\n",
      " ARIMA(4,0,3)(2,1,2)[7] intercept   : AIC=-34956.542, Time=73.10 sec\n",
      " ARIMA(4,0,2)(1,1,1)[7] intercept   : AIC=-35444.802, Time=16.53 sec\n",
      " ARIMA(5,0,3)(1,1,1)[7] intercept   : AIC=-26952.016, Time=57.42 sec\n",
      " ARIMA(4,0,4)(1,1,1)[7] intercept   : AIC=-35212.203, Time=40.08 sec\n",
      " ARIMA(3,0,2)(1,1,1)[7] intercept   : AIC=-32047.438, Time=24.72 sec\n",
      " ARIMA(3,0,4)(1,1,1)[7] intercept   : AIC=-34091.314, Time=51.51 sec\n",
      " ARIMA(5,0,2)(1,1,1)[7] intercept   : AIC=-35755.563, Time=50.94 sec\n",
      " ARIMA(5,0,4)(1,1,1)[7] intercept   : AIC=-35596.585, Time=66.67 sec\n",
      " ARIMA(4,0,3)(1,1,1)[7]             : AIC=-36050.824, Time=13.84 sec\n",
      " ARIMA(4,0,3)(0,1,1)[7]             : AIC=-36150.316, Time=13.17 sec\n",
      " ARIMA(4,0,3)(0,1,0)[7]             : AIC=-33793.595, Time=8.47 sec\n",
      " ARIMA(4,0,3)(0,1,2)[7]             : AIC=-36193.725, Time=20.88 sec\n",
      " ARIMA(4,0,3)(1,1,2)[7]             : AIC=-36152.624, Time=23.56 sec\n",
      " ARIMA(3,0,3)(0,1,2)[7]             : AIC=inf, Time=18.65 sec\n",
      " ARIMA(4,0,2)(0,1,2)[7]             : AIC=inf, Time=17.13 sec\n",
      " ARIMA(5,0,3)(0,1,2)[7]             : AIC=inf, Time=23.75 sec\n",
      " ARIMA(4,0,4)(0,1,2)[7]             : AIC=-36198.621, Time=21.45 sec\n",
      " ARIMA(4,0,4)(0,1,1)[7]             : AIC=-36187.453, Time=13.25 sec\n",
      " ARIMA(4,0,4)(1,1,2)[7]             : AIC=-36141.828, Time=22.75 sec\n",
      " ARIMA(4,0,4)(1,1,1)[7]             : AIC=-36033.317, Time=14.80 sec\n",
      " ARIMA(3,0,4)(0,1,2)[7]             : AIC=-34714.943, Time=19.88 sec\n",
      " ARIMA(5,0,4)(0,1,2)[7]             : AIC=-36173.551, Time=20.47 sec\n",
      " ARIMA(4,0,5)(0,1,2)[7]             : AIC=-35928.478, Time=21.84 sec\n",
      " ARIMA(3,0,5)(0,1,2)[7]             : AIC=-34422.664, Time=21.57 sec\n",
      " ARIMA(5,0,5)(0,1,2)[7]             : AIC=inf, Time=34.21 sec\n",
      " ARIMA(4,0,4)(0,1,2)[7] intercept   : AIC=-35609.603, Time=110.09 sec\n",
      "\n",
      "Best model:  ARIMA(4,0,4)(0,1,2)[7]          \n",
      "Total fit time: 1629.754 seconds\n"
     ]
    },
    {
     "name": "stderr",
     "output_type": "stream",
     "text": [
      "100%|██████████| 47/47 [19:59<00:00, 25.52s/it]"
     ]
    },
    {
     "name": "stdout",
     "output_type": "stream",
     "text": [
      "预测完成并保存到CSV文件。\n"
     ]
    },
    {
     "name": "stderr",
     "output_type": "stream",
     "text": [
      "\n"
     ]
    }
   ],
   "source": [
    "for file in file_name:\n",
    "    print(\"==================={}=================\".format(file))\n",
    "    path = os.path.join(data_path, file)\n",
    "\n",
    "    # 读取数据\n",
    "    df = pd.read_csv(path)\n",
    "\n",
    "    # 将日期列设置为索引\n",
    "    df['date'] = pd.to_datetime(df['date'])  # 确保日期列是日期格式\n",
    "    df.set_index('date', inplace=True)\n",
    "\n",
    "    # 拆分训练集和测试集\n",
    "    train_size = len(df) - test_size\n",
    "    train, test = df[0:train_size], df[train_size:]\n",
    "\n",
    "    # 使用auto_arima函数选择SARIMA模型的参数\n",
    "    auto_model = pm.auto_arima(train, seasonal=True, m=7, stepwise=True, suppress_warnings=True, trace=True)\n",
    "\n",
    "    # # 输出选择的模型参数\n",
    "    # print(auto_model.order)\n",
    "    # print(auto_model.seasonal_order)\n",
    "\n",
    "    # 使用选定的模型参数创建SARIMA模型\n",
    "    order = auto_model.order\n",
    "    seasonal_order = auto_model.seasonal_order\n",
    "\n",
    "    all_pred = []\n",
    "\n",
    "    for i in trange(train_size, len(df), pre_len):# 注意这里的步长变成了pre_len\n",
    "        # 计算还需要预测的步数\n",
    "        remaining_steps = len(df) - i\n",
    "         # 在循环的这一步中需要预测的步数是 pre_len 和 remaining_steps 中的较小值\n",
    "        steps_to_forecast = min(pre_len, remaining_steps)\n",
    "        # 为了保持模型的更新，我们在每次迭代中都使用最新的数据\n",
    "        sarima_model = SARIMAX(df[:i], order=order, seasonal_order=seasonal_order)\n",
    "\n",
    "        # 训练模型\n",
    "        sarima_fit = sarima_model.fit(disp=False)\n",
    "        # 进行预测,这里好像变了\n",
    "        sarima_forecast = sarima_fit.get_forecast(steps=steps_to_forecast)\n",
    "        sarima_pred = sarima_forecast.predicted_mean\n",
    "        # 添加预测值到列表，这里我们确保即使在预测步数少于 pre_len 的情况下也能正常工作\n",
    "        all_pred.extend(sarima_pred)\n",
    "    # 截断all_pred列表以确保其长度与测试集相同\n",
    "    pred_val = np.array(all_pred)[:test_size]\n",
    "\n",
    "    # 将测试集的真实值转换为一维数组\n",
    "    true_val = test.values.flatten()\n",
    "    # 此时 pred_val 和 true_val 的长度应该相同\n",
    "    assert len(pred_val) == len(true_val), \"Length of predictions and true values do not match.\"\n",
    "    # 将结果保存到 CSV 文件\n",
    "    pd.DataFrame({\n",
    "    \"pred\": pred_val,\n",
    "    \"true\": true_val,\n",
    "    }).to_csv(os.path.join(data_path, file.split('.')[0] + '_sarima.csv'))\n",
    "\n",
    "print(\"预测完成并保存到CSV文件。\")\n",
    "\n",
    "       #   # 当循环接近时间序列末尾时，我们需要处理边界情况\n",
    "       #  if i + pre_len > len(df):\n",
    "       #      steps_to_end = len(df) - i\n",
    "       #      sarima_pred = sarima_pred[:steps_to_end]\n",
    "       #  all_pred.append(sarima_pred)\n",
    "       # # 将预测结果扁平化并转换为一个数组\n",
    "    # pred_val = np.array(all_pred).flatten()\n",
    "    # true_val = test.values.reshape(-1)\n",
    "    # print(len(pred_val))\n",
    "    # print(len(true_val))\n",
    "#     pd.DataFrame.from_dict(\n",
    "#         {\n",
    "#             \"pred\":pred_val,\n",
    "#             \"true\":true_val,\n",
    "#         }\n",
    "#     ).to_csv(os.path.join(data_path, file.split('.')[0] + '_sarima.csv'))\n",
    "# print(\"预测完成并保存到CSV文件。\")"
   ]
  },
  {
   "cell_type": "code",
   "execution_count": 9,
   "metadata": {
    "ExecuteTime": {
     "start_time": "2023-12-25T17:37:08.980720Z",
     "end_time": "2023-12-25T17:37:08.992217Z"
    }
   },
   "outputs": [],
   "source": []
  },
  {
   "cell_type": "code",
   "execution_count": 9,
   "metadata": {
    "ExecuteTime": {
     "start_time": "2023-12-25T17:37:08.998344Z",
     "end_time": "2023-12-25T17:37:09.007750Z"
    }
   },
   "outputs": [],
   "source": []
  },
  {
   "cell_type": "code",
   "execution_count": 9,
   "metadata": {
    "ExecuteTime": {
     "start_time": "2023-12-25T17:37:09.008252Z",
     "end_time": "2023-12-25T17:37:09.048764Z"
    }
   },
   "outputs": [],
   "source": []
  }
 ],
 "metadata": {
  "kernelspec": {
   "display_name": "gen",
   "language": "python",
   "name": "python3"
  },
  "language_info": {
   "codemirror_mode": {
    "name": "ipython",
    "version": 3
   },
   "file_extension": ".py",
   "mimetype": "text/x-python",
   "name": "python",
   "nbconvert_exporter": "python",
   "pygments_lexer": "ipython3",
   "version": "3.8.15"
  }
 },
 "nbformat": 4,
 "nbformat_minor": 2
}
