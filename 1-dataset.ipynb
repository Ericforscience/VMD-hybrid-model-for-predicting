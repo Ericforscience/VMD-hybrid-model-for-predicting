{
 "cells": [
  {
   "cell_type": "markdown",
   "metadata": {},
   "source": [
    "## 处理Dataset"
   ]
  },
  {
   "cell_type": "code",
   "execution_count": 40,
   "metadata": {
    "ExecuteTime": {
     "start_time": "2024-10-16T20:15:51.170506Z",
     "end_time": "2024-10-16T20:15:51.186906Z"
    }
   },
   "outputs": [],
   "source": [
    "import pandas as pd\n",
    "import numpy as np\n",
    "from vmdpy import VMD  # 确保vmdpy库已经安装或者使用的是合适的VMD库\n",
    "import matplotlib.pyplot as plt\n",
    "import os\n",
    "import statsmodels.api as sm\n",
    "import pickle\n",
    "from ewtpy import ewt"
   ]
  },
  {
   "cell_type": "code",
   "execution_count": 41,
   "metadata": {
    "ExecuteTime": {
     "start_time": "2024-10-16T20:15:52.600724Z",
     "end_time": "2024-10-16T20:15:52.635259Z"
    }
   },
   "outputs": [
    {
     "data": {
      "text/plain": "                  time  flow_in  flow_out lineID  stationID  flow_in_outlier  \\\n0  2019-01-01 05:40:00      0.0       6.0      B          2            False   \n1  2019-01-01 05:45:00      0.0       3.0      B          2            False   \n2  2019-01-01 05:50:00      0.0       4.0      B          2            False   \n3  2019-01-01 05:55:00      0.0       7.0      B          2            False   \n4  2019-01-01 06:00:00      0.0       4.0      B          2            False   \n\n   flow_out_outlier  \n0             False  \n1             False  \n2             False  \n3             False  \n4             False  ",
      "text/html": "<div>\n<style scoped>\n    .dataframe tbody tr th:only-of-type {\n        vertical-align: middle;\n    }\n\n    .dataframe tbody tr th {\n        vertical-align: top;\n    }\n\n    .dataframe thead th {\n        text-align: right;\n    }\n</style>\n<table border=\"1\" class=\"dataframe\">\n  <thead>\n    <tr style=\"text-align: right;\">\n      <th></th>\n      <th>time</th>\n      <th>flow_in</th>\n      <th>flow_out</th>\n      <th>lineID</th>\n      <th>stationID</th>\n      <th>flow_in_outlier</th>\n      <th>flow_out_outlier</th>\n    </tr>\n  </thead>\n  <tbody>\n    <tr>\n      <th>0</th>\n      <td>2019-01-01 05:40:00</td>\n      <td>0.0</td>\n      <td>6.0</td>\n      <td>B</td>\n      <td>2</td>\n      <td>False</td>\n      <td>False</td>\n    </tr>\n    <tr>\n      <th>1</th>\n      <td>2019-01-01 05:45:00</td>\n      <td>0.0</td>\n      <td>3.0</td>\n      <td>B</td>\n      <td>2</td>\n      <td>False</td>\n      <td>False</td>\n    </tr>\n    <tr>\n      <th>2</th>\n      <td>2019-01-01 05:50:00</td>\n      <td>0.0</td>\n      <td>4.0</td>\n      <td>B</td>\n      <td>2</td>\n      <td>False</td>\n      <td>False</td>\n    </tr>\n    <tr>\n      <th>3</th>\n      <td>2019-01-01 05:55:00</td>\n      <td>0.0</td>\n      <td>7.0</td>\n      <td>B</td>\n      <td>2</td>\n      <td>False</td>\n      <td>False</td>\n    </tr>\n    <tr>\n      <th>4</th>\n      <td>2019-01-01 06:00:00</td>\n      <td>0.0</td>\n      <td>4.0</td>\n      <td>B</td>\n      <td>2</td>\n      <td>False</td>\n      <td>False</td>\n    </tr>\n  </tbody>\n</table>\n</div>"
     },
     "execution_count": 41,
     "metadata": {},
     "output_type": "execute_result"
    }
   ],
   "source": [
    "df = pd.read_csv(\"cleaned_station_2_flow_data1-25.csv\").sort_values('time')  # 可以看出后面四列完全没用 lineID\tstationID\tflow_in_outlier\tflow_out_outlier\n",
    "df.head()"
   ]
  },
  {
   "cell_type": "code",
   "execution_count": 42,
   "metadata": {
    "ExecuteTime": {
     "start_time": "2024-10-16T20:15:54.610875Z",
     "end_time": "2024-10-16T20:15:56.340725Z"
    }
   },
   "outputs": [],
   "source": [
    "# 选择出站客流数据用于VMD分解\n",
    "flow_out = df['flow_out'].values\n",
    "\n",
    "# 标准化数据\n",
    "flow_out_mean = np.mean(flow_out)\n",
    "flow_out_std = np.std(flow_out)\n",
    "flow_out_normalized = (flow_out - flow_out_mean) / flow_out_std\n",
    "\n",
    "# VMD分解\n",
    "alpha = 800 # moderate bandwidth constraint\n",
    "tau = 0.5 # noise-tolerance (no strict fidelity enforcement)\n",
    "K = 12 # - the number of modes\n",
    "DC = 0  # no DC part imposed\n",
    "init = 100  # initialize omegas uniformly\n",
    "tol = 1e-3\n",
    "\n",
    "u, _, _ = VMD(flow_out_normalized, alpha, tau, K, DC, init, tol)\n",
    "\n",
    "# 创建用于存储扩展后IMFs的列表\n",
    "extended_u = []\n",
    "\n",
    "# 确保IMFs的长度与原始信号相同\n",
    "for imf in u:\n",
    "    if len(imf) < len(flow_out):\n",
    "        # 若IMF长度小于原始信号长度，则扩展IMF\n",
    "        imf = np.append(imf, np.zeros(len(flow_out) - len(imf)))\n",
    "    extended_u.append(imf)\n",
    "\n",
    "# 将扩展后的IMF列表转换成NumPy数组用于进一步处理\n",
    "extended_u = np.array(extended_u)"
   ]
  },
  {
   "cell_type": "code",
   "execution_count": 43,
   "metadata": {
    "ExecuteTime": {
     "start_time": "2024-10-16T20:15:58.175518Z",
     "end_time": "2024-10-16T20:15:58.190941Z"
    }
   },
   "outputs": [],
   "source": [
    "pickle.dump((flow_out_mean, flow_out_std, flow_out_normalized), open('raw_data.pkl','wb'))"
   ]
  },
  {
   "cell_type": "code",
   "execution_count": 44,
   "metadata": {
    "ExecuteTime": {
     "start_time": "2024-10-16T20:15:59.450889Z",
     "end_time": "2024-10-16T20:15:59.705515Z"
    }
   },
   "outputs": [
    {
     "name": "stdout",
     "output_type": "stream",
     "text": [
      "序列 1 存在季节性趋势\n",
      "序列 2 存在季节性趋势\n",
      "序列 3 存在季节性趋势\n",
      "序列 4 存在季节性趋势\n",
      "序列 5 没有季节性趋势\n",
      "序列 6 没有季节性趋势\n",
      "序列 7 没有季节性趋势\n",
      "序列 8 存在季节性趋势\n",
      "序列 9 没有季节性趋势\n",
      "序列 10 没有季节性趋势\n",
      "序列 11 存在季节性趋势\n",
      "序列 12 没有季节性趋势\n"
     ]
    },
    {
     "data": {
      "text/plain": "'\\n'"
     },
     "execution_count": 44,
     "metadata": {},
     "output_type": "execute_result"
    }
   ],
   "source": [
    "# import numpy as np\n",
    "# import matplotlib.pyplot as plt\n",
    "# from statsmodels.tsa.stattools import acf\n",
    "# from scipy.stats import spearmanr\n",
    "# from statsmodels.tsa.seasonal import seasonal_decompose\n",
    "#\n",
    "# # 定义检测季节性趋势的函数\n",
    "# def detect_seasonality(sequence, acf_threshold=0.9, spearman_threshold=0.5):\n",
    "#     # 计算序列的自相关函数\n",
    "#     autocorr = acf(sequence, fft=False)\n",
    "#     print(f'ACF_correlation: {max(autocorr[1:])}')\n",
    "#\n",
    "#     # 计算Spearman等级相关系数\n",
    "#     spearman_corr, _ = spearmanr(sequence[:-1], sequence[1:])\n",
    "#     print(f'Spearman correlation: {spearman_corr}')\n",
    "#\n",
    "#     # 判断是否存在季节性趋势\n",
    "#     acf_trend = np.max(autocorr[1:]) > acf_threshold\n",
    "#     spearman_trend = spearman_corr > spearman_threshold\n",
    "#\n",
    "#     # 如果ACF和Spearman等级相关系数都表明存在季节性趋势，则进行季节性分解\n",
    "#     if acf_trend and spearman_trend:\n",
    "#         # 季节性分解\n",
    "#         result = seasonal_decompose(sequence, model='additive', period=220)  # 假设季节性周期为7\n",
    "#         # result.plot()\n",
    "#         # plt.show()\n",
    "#\n",
    "#         # 检查季节性分解结果中的季节性成分是否显著\n",
    "#         seasonal_trend = np.max(np.abs(result.seasonal)) > 0.15 * np.max(np.abs(sequence))\n",
    "#     else:\n",
    "#         seasonal_trend = False\n",
    "#\n",
    "#     return seasonal_trend\n",
    "#\n",
    "# season_flag = []\n",
    "# # 遍历每个序列并检测季节性趋势\n",
    "# for i, sequence in enumerate(extended_u):\n",
    "#     has_seasonality = detect_seasonality(sequence)\n",
    "#     season_flag.append(has_seasonality)\n",
    "#     if has_seasonality:\n",
    "#         print(f\"序列 {i+1} 存在季节性趋势\")\n",
    "#     else:\n",
    "#         print(f\"序列 {i+1} 没有季节性趋势\")\n",
    "import numpy as np\n",
    "import matplotlib.pyplot as plt\n",
    "from statsmodels.tsa.stattools import acf, pacf\n",
    "\n",
    "\n",
    "\n",
    "# 定义检测季节性趋势的函数\n",
    "def detect_seasonality(sequence, acf_threshold=0.9, pacf_confint=0.1):\n",
    "    # 计算序列的自相关函数和部分自相关函数\n",
    "    autocorr = acf(sequence, fft=False)\n",
    "    pacorr, pacorr_confint = pacf(sequence, alpha=1-pacf_confint)\n",
    "\n",
    "    # 计算部分自相关函数的阈值\n",
    "    pacf_threshold_upper = pacorr_confint[:, 1] - pacorr\n",
    "    pacf_threshold_lower = pacorr - pacorr_confint[:, 0]\n",
    "\n",
    "    # 判断是否存在季节性趋势\n",
    "    acf_trend = np.any(autocorr[1:] > acf_threshold)\n",
    "    pacf_trend = np.any((pacorr[1:] > pacf_threshold_upper[1:]) | (pacorr[1:] < pacf_threshold_lower[1:]))\n",
    "\n",
    "    # 如果ACF和PACF都表明存在季节性趋势，则判断为存在季节性\n",
    "    seasonal_trend = acf_trend and pacf_trend\n",
    "\n",
    "    return seasonal_trend\n",
    "\n",
    "season_flag = []\n",
    "# 遍历每个序列并检测季节性趋势\n",
    "for i, sequence in enumerate(extended_u):\n",
    "    has_seasonality = detect_seasonality(sequence)\n",
    "    season_flag.append(has_seasonality)\n",
    "    if has_seasonality:\n",
    "        print(f\"序列 {i+1} 存在季节性趋势\")\n",
    "    else:\n",
    "        print(f\"序列 {i+1} 没有季节性趋势\")\n",
    "\n",
    "\n",
    "\"\"\"\n",
    "\"\"\"\n"
   ]
  },
  {
   "cell_type": "code",
   "execution_count": 37,
   "metadata": {
    "ExecuteTime": {
     "start_time": "2024-10-16T17:04:58.916672Z",
     "end_time": "2024-10-16T17:04:58.932288Z"
    }
   },
   "outputs": [],
   "source": [
    "subfolder = {\n",
    "    True:\"has_seasonality\",\n",
    "    False:\"no_seasonality\",\n",
    "}\n",
    "\n",
    "for i, seq in enumerate(extended_u):\n",
    "    \n",
    "    if not os.path.isdir(os.path.join(\"VMD_Data\",subfolder[season_flag[i]])):\n",
    "        os.mkdir(os.path.join(\"VMD_Data\",subfolder[season_flag[i]]))\n",
    "        \n",
    "    pd.DataFrame.from_dict({\n",
    "        \"date\":df['time'],\n",
    "        \"value\":seq\n",
    "    }).to_csv(os.path.join(\"VMD_Data\",subfolder[season_flag[i]], \"seq_{}.csv\".format(i)),index=False)"
   ]
  },
  {
   "cell_type": "code",
   "execution_count": 11,
   "metadata": {
    "ExecuteTime": {
     "start_time": "2023-12-22T16:00:49.802095Z",
     "end_time": "2023-12-22T16:00:49.818113Z"
    }
   },
   "outputs": [],
   "source": []
  }
 ],
 "metadata": {
  "kernelspec": {
   "display_name": "gen",
   "language": "python",
   "name": "python3"
  },
  "language_info": {
   "codemirror_mode": {
    "name": "ipython",
    "version": 3
   },
   "file_extension": ".py",
   "mimetype": "text/x-python",
   "name": "python",
   "nbconvert_exporter": "python",
   "pygments_lexer": "ipython3",
   "version": "3.8.15"
  }
 },
 "nbformat": 4,
 "nbformat_minor": 2
}
